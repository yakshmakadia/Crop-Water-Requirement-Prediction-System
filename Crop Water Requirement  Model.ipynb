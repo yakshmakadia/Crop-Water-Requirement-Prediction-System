{
 "cells": [
  {
   "cell_type": "code",
   "execution_count": 1,
   "id": "6031cc71",
   "metadata": {
    "execution": {
     "iopub.execute_input": "2025-04-14T16:03:52.218391Z",
     "iopub.status.busy": "2025-04-14T16:03:52.218170Z",
     "iopub.status.idle": "2025-04-14T16:03:52.225317Z",
     "shell.execute_reply": "2025-04-14T16:03:52.224566Z"
    },
    "papermill": {
     "duration": 0.014442,
     "end_time": "2025-04-14T16:03:52.226410",
     "exception": false,
     "start_time": "2025-04-14T16:03:52.211968",
     "status": "completed"
    },
    "tags": []
   },
   "outputs": [
    {
     "name": "stdout",
     "output_type": "stream",
     "text": [
      "Done\n"
     ]
    }
   ],
   "source": [
    "import os\n",
    "os.environ['TF_CPP_MIN_LOG_LEVEL'] = '2'  # Suppresses INFO and WARNING logs\n",
    "import warnings\n",
    "# Suppress the specific warning\n",
    "warnings.filterwarnings('ignore', category=RuntimeWarning)\n",
    "print(\"Done\")"
   ]
  },
  {
   "cell_type": "markdown",
   "id": "f007e083",
   "metadata": {
    "papermill": {
     "duration": 0.004199,
     "end_time": "2025-04-14T16:03:52.235159",
     "exception": false,
     "start_time": "2025-04-14T16:03:52.230960",
     "status": "completed"
    },
    "tags": []
   },
   "source": [
    "1.1 Import Libraries"
   ]
  },
  {
   "cell_type": "code",
   "execution_count": 2,
   "id": "af3c4b00",
   "metadata": {
    "execution": {
     "iopub.execute_input": "2025-04-14T16:03:52.245758Z",
     "iopub.status.busy": "2025-04-14T16:03:52.245337Z",
     "iopub.status.idle": "2025-04-14T16:04:07.740817Z",
     "shell.execute_reply": "2025-04-14T16:04:07.740063Z"
    },
    "papermill": {
     "duration": 15.502591,
     "end_time": "2025-04-14T16:04:07.742061",
     "exception": false,
     "start_time": "2025-04-14T16:03:52.239470",
     "status": "completed"
    },
    "tags": []
   },
   "outputs": [
    {
     "name": "stderr",
     "output_type": "stream",
     "text": [
      "2025-04-14 16:03:56.662450: E external/local_xla/xla/stream_executor/cuda/cuda_fft.cc:477] Unable to register cuFFT factory: Attempting to register factory for plugin cuFFT when one has already been registered\n",
      "WARNING: All log messages before absl::InitializeLog() is called are written to STDERR\n",
      "E0000 00:00:1744646636.878808      19 cuda_dnn.cc:8310] Unable to register cuDNN factory: Attempting to register factory for plugin cuDNN when one has already been registered\n",
      "E0000 00:00:1744646636.944887      19 cuda_blas.cc:1418] Unable to register cuBLAS factory: Attempting to register factory for plugin cuBLAS when one has already been registered\n"
     ]
    },
    {
     "name": "stdout",
     "output_type": "stream",
     "text": [
      "Done\n"
     ]
    }
   ],
   "source": [
    "import pandas as pd\n",
    "import numpy as np\n",
    "import matplotlib.pyplot as plt\n",
    "from sklearn.preprocessing import MinMaxScaler\n",
    "from sklearn.model_selection import train_test_split\n",
    "import tensorflow as tf\n",
    "from tensorflow.keras.models import Sequential\n",
    "from tensorflow.keras.layers import LSTM, Dense, Dropout\n",
    "print(\"Done\")"
   ]
  },
  {
   "cell_type": "markdown",
   "id": "c1e4cf3e",
   "metadata": {
    "papermill": {
     "duration": 0.004336,
     "end_time": "2025-04-14T16:04:07.751097",
     "exception": false,
     "start_time": "2025-04-14T16:04:07.746761",
     "status": "completed"
    },
    "tags": []
   },
   "source": [
    "1.2 Load Datasets"
   ]
  },
  {
   "cell_type": "code",
   "execution_count": 3,
   "id": "3a42fc4a",
   "metadata": {
    "execution": {
     "iopub.execute_input": "2025-04-14T16:04:07.760770Z",
     "iopub.status.busy": "2025-04-14T16:04:07.760335Z",
     "iopub.status.idle": "2025-04-14T16:04:07.812588Z",
     "shell.execute_reply": "2025-04-14T16:04:07.811825Z"
    },
    "papermill": {
     "duration": 0.058433,
     "end_time": "2025-04-14T16:04:07.813774",
     "exception": false,
     "start_time": "2025-04-14T16:04:07.755341",
     "status": "completed"
    },
    "tags": []
   },
   "outputs": [
    {
     "name": "stdout",
     "output_type": "stream",
     "text": [
      "✅ Climate Data shape: (2557, 11)\n",
      "✅ Crop Calendar shape: (25, 14)\n",
      "✅ Soil Classification shape: (4, 8)\n",
      "✅ Soil Moisture shape: (2205, 9)\n",
      "Done\n"
     ]
    }
   ],
   "source": [
    "import pandas as pd\n",
    "\n",
    "# Load datasets with encoding handling\n",
    "climate_df = pd.read_csv('/kaggle/input/crop-water-requirement-prediction-using-ml/Climate_Data.csv')\n",
    "crop_df = pd.read_csv('/kaggle/input/crop-water-requirement-prediction-using-ml/Crop_Calender.csv', encoding='ISO-8859-1')\n",
    "soil_class_df = pd.read_csv('/kaggle/input/crop-water-requirement-prediction-using-ml/Soil_Classification.csv')\n",
    "soil_moisture_df = pd.read_csv('/kaggle/input/crop-water-requirement-prediction-using-ml/Soil_Moisture.csv')\n",
    "\n",
    "# Quick check of the loaded data\n",
    "print(\"✅ Climate Data shape:\", climate_df.shape)\n",
    "print(\"✅ Crop Calendar shape:\", crop_df.shape)\n",
    "print(\"✅ Soil Classification shape:\", soil_class_df.shape)\n",
    "print(\"✅ Soil Moisture shape:\", soil_moisture_df.shape)\n",
    "print(\"Done\")\n"
   ]
  },
  {
   "cell_type": "markdown",
   "id": "8a581054",
   "metadata": {
    "papermill": {
     "duration": 0.004426,
     "end_time": "2025-04-14T16:04:07.823050",
     "exception": false,
     "start_time": "2025-04-14T16:04:07.818624",
     "status": "completed"
    },
    "tags": []
   },
   "source": [
    "1..3 Preprocess Climate Data"
   ]
  },
  {
   "cell_type": "code",
   "execution_count": 4,
   "id": "ef575ca1",
   "metadata": {
    "execution": {
     "iopub.execute_input": "2025-04-14T16:04:07.832595Z",
     "iopub.status.busy": "2025-04-14T16:04:07.832369Z",
     "iopub.status.idle": "2025-04-14T16:04:07.860681Z",
     "shell.execute_reply": "2025-04-14T16:04:07.859799Z"
    },
    "papermill": {
     "duration": 0.034321,
     "end_time": "2025-04-14T16:04:07.861730",
     "exception": false,
     "start_time": "2025-04-14T16:04:07.827409",
     "status": "completed"
    },
    "tags": []
   },
   "outputs": [
    {
     "name": "stdout",
     "output_type": "stream",
     "text": [
      "    datetime  air_temp  air_humidity  rainfall\n",
      "0 2018-01-01     17.92         24.23       0.0\n",
      "1 2018-01-02     18.24         28.32       0.0\n",
      "2 2018-01-03     19.31         28.21       0.0\n",
      "3 2018-01-04     19.20         33.37       0.0\n",
      "4 2018-01-05     19.91         62.90       0.0\n"
     ]
    }
   ],
   "source": [
    "# Step 1: Convert 'datetime' to proper datetime format\n",
    "climate_processed_df = climate_df.copy()\n",
    "climate_processed_df['datetime'] = pd.to_datetime(climate_processed_df['datetime'])\n",
    "\n",
    "# Step 2: Sort the data by datetime\n",
    "climate_processed_df = climate_processed_df.sort_values('datetime')\n",
    "\n",
    "# Step 3: Keep only relevant columns and rename them\n",
    "climate_processed_df = climate_processed_df[['datetime', 'T2M', 'RH2M', 'PRECTOTCORR']].rename(columns={\n",
    "    'T2M': 'air_temp',\n",
    "    'RH2M': 'air_humidity',\n",
    "    'PRECTOTCORR': 'rainfall'\n",
    "})\n",
    "\n",
    "# Step 4: Verify the result\n",
    "print(climate_processed_df.head())"
   ]
  },
  {
   "cell_type": "markdown",
   "id": "178902db",
   "metadata": {
    "papermill": {
     "duration": 0.004511,
     "end_time": "2025-04-14T16:04:07.870766",
     "exception": false,
     "start_time": "2025-04-14T16:04:07.866255",
     "status": "completed"
    },
    "tags": []
   },
   "source": [
    "1.4 Preprocess Soil Moisture Data"
   ]
  },
  {
   "cell_type": "code",
   "execution_count": 5,
   "id": "758a49da",
   "metadata": {
    "execution": {
     "iopub.execute_input": "2025-04-14T16:04:07.880371Z",
     "iopub.status.busy": "2025-04-14T16:04:07.880161Z",
     "iopub.status.idle": "2025-04-14T16:04:07.923665Z",
     "shell.execute_reply": "2025-04-14T16:04:07.922774Z"
    },
    "papermill": {
     "duration": 0.049688,
     "end_time": "2025-04-14T16:04:07.924802",
     "exception": false,
     "start_time": "2025-04-14T16:04:07.875114",
     "status": "completed"
    },
    "tags": []
   },
   "outputs": [
    {
     "name": "stdout",
     "output_type": "stream",
     "text": [
      "          dt  Date  Month    Year  Avg_smlvl_at15cm  Unnamed: 7\n",
      "0 2018-07-24  24.0    7.0  2018.0         28.157946         NaN\n",
      "1 2018-07-25  25.0    7.0  2018.0         27.293970         NaN\n",
      "2 2018-07-26  26.0    7.0  2018.0         26.345704         NaN\n",
      "3 2018-07-27  27.0    7.0  2018.0         25.296293         NaN\n",
      "4 2018-07-28  28.0    7.0  2018.0         24.315067         NaN\n"
     ]
    }
   ],
   "source": [
    "import pandas as pd\n",
    "\n",
    "# STEP 1: Convert Year, Month, Date columns to a proper datetime column 'dt'\n",
    "soil_moisture_df['dt'] = pd.to_datetime(\n",
    "    soil_moisture_df[['Year', 'Month', 'Date']].astype(str).agg('-'.join, axis=1),\n",
    "    errors='coerce'\n",
    ")\n",
    "\n",
    "# STEP 2: Drop rows where datetime conversion failed\n",
    "soil_moisture_df = soil_moisture_df.dropna(subset=['dt'])\n",
    "\n",
    "# STEP 3: Drop duplicate datetime entries (keep the first one)\n",
    "soil_moisture_df = soil_moisture_df.drop_duplicates(subset='dt', keep='first')\n",
    "\n",
    "# STEP 4: Set 'dt' as the index — this is CRUCIAL for resampling\n",
    "soil_moisture_df = soil_moisture_df.set_index('dt')\n",
    "\n",
    "# STEP 5: Select only numeric columns (like soil_moisture) to resample\n",
    "numeric_cols = soil_moisture_df.select_dtypes(include='number').columns\n",
    "\n",
    "# STEP 6: Resample daily and interpolate\n",
    "final_df = (\n",
    "    soil_moisture_df[numeric_cols]\n",
    "    .resample('D')\n",
    "    .interpolate()\n",
    "    .reset_index()\n",
    ")\n",
    "\n",
    "# Final preview\n",
    "print(final_df.head())"
   ]
  },
  {
   "cell_type": "markdown",
   "id": "3306c96e",
   "metadata": {
    "papermill": {
     "duration": 0.004514,
     "end_time": "2025-04-14T16:04:07.934094",
     "exception": false,
     "start_time": "2025-04-14T16:04:07.929580",
     "status": "completed"
    },
    "tags": []
   },
   "source": [
    "1.5 Merge All Data"
   ]
  },
  {
   "cell_type": "code",
   "execution_count": 6,
   "id": "d40622e4",
   "metadata": {
    "execution": {
     "iopub.execute_input": "2025-04-14T16:04:07.944103Z",
     "iopub.status.busy": "2025-04-14T16:04:07.943859Z",
     "iopub.status.idle": "2025-04-14T16:04:07.969905Z",
     "shell.execute_reply": "2025-04-14T16:04:07.969138Z"
    },
    "papermill": {
     "duration": 0.03235,
     "end_time": "2025-04-14T16:04:07.970978",
     "exception": false,
     "start_time": "2025-04-14T16:04:07.938628",
     "status": "completed"
    },
    "tags": []
   },
   "outputs": [
    {
     "name": "stdout",
     "output_type": "stream",
     "text": [
      "\n",
      "Data Quality Check:\n",
      "Rows with missing soil moisture: 80\n",
      "Date range: 2018-08-01 00:00:00 to 2024-12-31 00:00:00\n",
      "\n",
      "First 5 Rows of Merged Data:\n",
      "  datetime  air_temp  air_humidity  rainfall  Avg_smlvl_at15cm\n",
      "2018-08-01     28.70         75.81      0.00         21.785613\n",
      "2018-08-02     28.51         76.74      0.07         20.952706\n",
      "2018-08-03     27.74         80.02      0.05         20.005092\n",
      "2018-08-04     28.14         76.26      0.01         19.051896\n",
      "2018-08-05     28.31         75.14      0.00         18.199130\n",
      "\n",
      "✅ Successfully saved to 'climate_soil_moisture_merge.csv'\n"
     ]
    }
   ],
   "source": [
    "# 1. Filter climate data to only August 2018 onwards\n",
    "climate_aug2018_onwards = climate_processed_df[\n",
    "    climate_processed_df['datetime'] >= '2018-08-01'\n",
    "].copy()\n",
    "\n",
    "# 2. Merge with soil moisture data\n",
    "merged_df = pd.merge(\n",
    "    climate_aug2018_onwards,\n",
    "    final_df[['dt', 'Avg_smlvl_at15cm']],  # <- Corrected here\n",
    "    left_on='datetime',\n",
    "    right_on='dt',\n",
    "    how='left'\n",
    ").drop(columns=['dt'])\n",
    "\n",
    "# 3. Verify no missing values in critical columns\n",
    "print(\"\\nData Quality Check:\")\n",
    "print(f\"Rows with missing soil moisture: {merged_df['Avg_smlvl_at15cm'].isna().sum()}\")\n",
    "print(f\"Date range: {merged_df['datetime'].min()} to {merged_df['datetime'].max()}\")\n",
    "\n",
    "# 4. Save with your requested filename\n",
    "output_filename = 'climate_soil_moisture_merge.csv'\n",
    "merged_df.to_csv(output_filename, index=False)\n",
    "\n",
    "# 5. Show final confirmation\n",
    "print(\"\\nFirst 5 Rows of Merged Data:\")\n",
    "print(merged_df.head().to_string(index=False))\n",
    "print(f\"\\n✅ Successfully saved to '{output_filename}'\")"
   ]
  },
  {
   "cell_type": "markdown",
   "id": "efcc7306",
   "metadata": {
    "papermill": {
     "duration": 0.004273,
     "end_time": "2025-04-14T16:04:07.979816",
     "exception": false,
     "start_time": "2025-04-14T16:04:07.975543",
     "status": "completed"
    },
    "tags": []
   },
   "source": [
    "1.6 Normalize Data (Critical for LSTM)"
   ]
  },
  {
   "cell_type": "code",
   "execution_count": 7,
   "id": "9d106781",
   "metadata": {
    "execution": {
     "iopub.execute_input": "2025-04-14T16:04:07.989528Z",
     "iopub.status.busy": "2025-04-14T16:04:07.989350Z",
     "iopub.status.idle": "2025-04-14T16:04:08.022838Z",
     "shell.execute_reply": "2025-04-14T16:04:08.022253Z"
    },
    "papermill": {
     "duration": 0.039687,
     "end_time": "2025-04-14T16:04:08.023968",
     "exception": false,
     "start_time": "2025-04-14T16:04:07.984281",
     "status": "completed"
    },
    "tags": []
   },
   "outputs": [
    {
     "name": "stdout",
     "output_type": "stream",
     "text": [
      "\n",
      "First 5 Rows of Scaled Data:\n",
      "  datetime  air_temp  air_humidity  rainfall  Avg_smlvl_at15cm  air_temp_scaled  air_humidity_scaled  rainfall_scaled  soil_moisture_scaled\n",
      "2018-08-01     28.70         75.81      0.00         21.785613         0.655321             0.765429         0.000000              0.618097\n",
      "2018-08-02     28.51         76.74      0.07         20.952706         0.647135             0.777095         0.000402              0.594466\n",
      "2018-08-03     27.74         80.02      0.05         20.005092         0.613960             0.818239         0.000287              0.567580\n",
      "2018-08-04     28.14         76.26      0.01         19.051896         0.631193             0.771074         0.000057              0.540536\n",
      "2018-08-05     28.31         75.14      0.00         18.199130         0.638518             0.757025         0.000000              0.516342\n",
      "\n",
      "Saved scaled data to 'climate_soil_moisture_merge_scaled.csv'\n"
     ]
    }
   ],
   "source": [
    "from sklearn.preprocessing import MinMaxScaler\n",
    "\n",
    "# Initialize the scaler\n",
    "scaler = MinMaxScaler()\n",
    "\n",
    "# Apply scaling to the numerical columns (using current column names)\n",
    "scaled_data = scaler.fit_transform(merged_df[['air_temp', 'air_humidity', 'rainfall', 'Avg_smlvl_at15cm']])\n",
    "\n",
    "# Create a new dataframe with the scaled data\n",
    "scaled_df = pd.DataFrame(scaled_data, columns=['air_temp_scaled', 'air_humidity_scaled', \n",
    "                                              'rainfall_scaled', 'soil_moisture_scaled'])\n",
    "\n",
    "# Keep the original columns and datetime\n",
    "scaled_df = pd.concat([\n",
    "    merged_df[['datetime', 'air_temp', 'air_humidity', 'rainfall', 'Avg_smlvl_at15cm']],\n",
    "    scaled_df\n",
    "], axis=1)\n",
    "\n",
    "# Check the scaled dataframe\n",
    "print(\"\\nFirst 5 Rows of Scaled Data:\")\n",
    "print(scaled_df.head().to_string(index=False))\n",
    "\n",
    "# Save the scaled data\n",
    "scaled_df.to_csv('climate_soil_moisture_merge_scaled.csv', index=False)\n",
    "print(\"\\nSaved scaled data to 'climate_soil_moisture_merge_scaled.csv'\")\n"
   ]
  },
  {
   "cell_type": "markdown",
   "id": "54ce7097",
   "metadata": {
    "papermill": {
     "duration": 0.004417,
     "end_time": "2025-04-14T16:04:08.032911",
     "exception": false,
     "start_time": "2025-04-14T16:04:08.028494",
     "status": "completed"
    },
    "tags": []
   },
   "source": [
    "2.1 Fix Missing soil_moisture (Forward Fill + Interpolation)"
   ]
  },
  {
   "cell_type": "code",
   "execution_count": 8,
   "id": "81203191",
   "metadata": {
    "execution": {
     "iopub.execute_input": "2025-04-14T16:04:08.042395Z",
     "iopub.status.busy": "2025-04-14T16:04:08.042197Z",
     "iopub.status.idle": "2025-04-14T16:04:08.054863Z",
     "shell.execute_reply": "2025-04-14T16:04:08.053993Z"
    },
    "papermill": {
     "duration": 0.018714,
     "end_time": "2025-04-14T16:04:08.055990",
     "exception": false,
     "start_time": "2025-04-14T16:04:08.037276",
     "status": "completed"
    },
    "tags": []
   },
   "outputs": [
    {
     "name": "stdout",
     "output_type": "stream",
     "text": [
      "Found 80 missing values in soil_moisture. Applying fixes...\n",
      "Missing values fixed.\n",
      "\n",
      "First 5 Rows (Final Check):\n",
      "  datetime  air_temp  air_humidity  rainfall  Avg_smlvl_at15cm  air_temp_scaled  air_humidity_scaled  rainfall_scaled  soil_moisture_scaled\n",
      "2018-08-01     28.70         75.81      0.00         21.785613         0.655321             0.765429         0.000000              0.618097\n",
      "2018-08-02     28.51         76.74      0.07         20.952706         0.647135             0.777095         0.000402              0.594466\n",
      "2018-08-03     27.74         80.02      0.05         20.005092         0.613960             0.818239         0.000287              0.567580\n",
      "2018-08-04     28.14         76.26      0.01         19.051896         0.631193             0.771074         0.000057              0.540536\n",
      "2018-08-05     28.31         75.14      0.00         18.199130         0.638518             0.757025         0.000000              0.516342\n"
     ]
    }
   ],
   "source": [
    "# Check if missing values exist in soil_moisture\n",
    "if scaled_df['Avg_smlvl_at15cm'].isna().any():\n",
    "    print(f\"Found {scaled_df['Avg_smlvl_at15cm'].isna().sum()} missing values in soil_moisture. Applying fixes...\")\n",
    "    \n",
    "    # 1. Forward fill (carry last known value forward)\n",
    "    scaled_df['Avg_smlvl_at15cm'] = scaled_df['Avg_smlvl_at15cm'].ffill()\n",
    "    \n",
    "    # 2. Linear interpolation for remaining gaps\n",
    "    scaled_df['Avg_smlvl_at15cm'] = scaled_df['Avg_smlvl_at15cm'].interpolate()\n",
    "    \n",
    "    # 3. Drop rows if any NaN remains (unlikely but safe)\n",
    "    scaled_df = scaled_df.dropna(subset=['Avg_smlvl_at15cm'])\n",
    "    \n",
    "    print(\"Missing values fixed.\")\n",
    "else:\n",
    "    print(\"No missing values in soil_moisture. Proceeding to modeling.\")\n",
    "\n",
    "# Verify\n",
    "print(\"\\nFirst 5 Rows (Final Check):\")\n",
    "print(scaled_df.head().to_string(index=False))"
   ]
  },
  {
   "cell_type": "markdown",
   "id": "f80e8f2b",
   "metadata": {
    "papermill": {
     "duration": 0.004484,
     "end_time": "2025-04-14T16:04:08.065141",
     "exception": false,
     "start_time": "2025-04-14T16:04:08.060657",
     "status": "completed"
    },
    "tags": []
   },
   "source": [
    "2.2 Verify Final Dataset"
   ]
  },
  {
   "cell_type": "code",
   "execution_count": 9,
   "id": "3f1dd2e0",
   "metadata": {
    "execution": {
     "iopub.execute_input": "2025-04-14T16:04:08.074915Z",
     "iopub.status.busy": "2025-04-14T16:04:08.074708Z",
     "iopub.status.idle": "2025-04-14T16:04:08.462446Z",
     "shell.execute_reply": "2025-04-14T16:04:08.461751Z"
    },
    "papermill": {
     "duration": 0.394702,
     "end_time": "2025-04-14T16:04:08.464340",
     "exception": false,
     "start_time": "2025-04-14T16:04:08.069638",
     "status": "completed"
    },
    "tags": []
   },
   "outputs": [
    {
     "name": "stdout",
     "output_type": "stream",
     "text": [
      "Final dataset shape: (2345, 9)\n"
     ]
    },
    {
     "data": {
      "image/png": "[encoded data removed]",
      "text/plain": [
       "<Figure size 1200x400 with 1 Axes>"
      ]
     },
     "metadata": {},
     "output_type": "display_data"
    }
   ],
   "source": [
    "print(\"Final dataset shape:\", scaled_df.shape)\n",
    "\n",
    "plt.figure(figsize=(12, 4))\n",
    "plt.plot(scaled_df['datetime'], scaled_df['Avg_smlvl_at15cm'], label='Avg_smlvl_at15cm')\n",
    "plt.title(\"Soil Moisture Over Time\")\n",
    "plt.xlabel(\"Date\")\n",
    "plt.ylabel(\"Avg_smlvl_at15cm\")\n",
    "plt.legend()\n",
    "plt.tight_layout()\n",
    "plt.show()\n"
   ]
  },
  {
   "cell_type": "markdown",
   "id": "331c7afe",
   "metadata": {
    "papermill": {
     "duration": 0.005673,
     "end_time": "2025-04-14T16:04:08.476210",
     "exception": false,
     "start_time": "2025-04-14T16:04:08.470537",
     "status": "completed"
    },
    "tags": []
   },
   "source": [
    "TILL HERE IS DONEEEEEEEEEEEEE"
   ]
  },
  {
   "cell_type": "code",
   "execution_count": 10,
   "id": "fae04588",
   "metadata": {
    "execution": {
     "iopub.execute_input": "2025-04-14T16:04:08.488406Z",
     "iopub.status.busy": "2025-04-14T16:04:08.488198Z",
     "iopub.status.idle": "2025-04-14T16:04:08.497257Z",
     "shell.execute_reply": "2025-04-14T16:04:08.496543Z"
    },
    "papermill": {
     "duration": 0.016439,
     "end_time": "2025-04-14T16:04:08.498400",
     "exception": false,
     "start_time": "2025-04-14T16:04:08.481961",
     "status": "completed"
    },
    "tags": []
   },
   "outputs": [],
   "source": [
    "def create_sequences(data, n_steps=7):\n",
    "    X, y = [], []\n",
    "    for i in range(len(data) - n_steps):\n",
    "        X.append(data[i:i+n_steps])  # Historical window (e.g., 7 days)\n",
    "        y.append(data[i+n_steps])    # Next-day soil moisture\n",
    "    return np.array(X), np.array(y)\n",
    "\n",
    "# Use scaled features (air_temp, humidity, etc.) as input\n",
    "n_steps = 7  # 7-day lookback\n",
    "X, y = create_sequences(scaled_df[['air_temp_scaled', 'air_humidity_scaled', 'soil_moisture_scaled']].values, n_steps)"
   ]
  },
  {
   "cell_type": "code",
   "execution_count": 11,
   "id": "8b0a3bb1",
   "metadata": {
    "execution": {
     "iopub.execute_input": "2025-04-14T16:04:08.510393Z",
     "iopub.status.busy": "2025-04-14T16:04:08.510195Z",
     "iopub.status.idle": "2025-04-14T16:04:11.251145Z",
     "shell.execute_reply": "2025-04-14T16:04:11.250540Z"
    },
    "papermill": {
     "duration": 2.748537,
     "end_time": "2025-04-14T16:04:11.252536",
     "exception": false,
     "start_time": "2025-04-14T16:04:08.503999",
     "status": "completed"
    },
    "tags": []
   },
   "outputs": [
    {
     "name": "stderr",
     "output_type": "stream",
     "text": [
      "I0000 00:00:1744646649.837905      19 gpu_device.cc:2022] Created device /job:localhost/replica:0/task:0/device:GPU:0 with 13942 MB memory:  -> device: 0, name: Tesla T4, pci bus id: 0000:00:04.0, compute capability: 7.5\n",
      "I0000 00:00:1744646649.838591      19 gpu_device.cc:2022] Created device /job:localhost/replica:0/task:0/device:GPU:1 with 13942 MB memory:  -> device: 1, name: Tesla T4, pci bus id: 0000:00:05.0, compute capability: 7.5\n"
     ]
    },
    {
     "data": {
      "text/html": [
       "<pre style=\"white-space:pre;overflow-x:auto;line-height:normal;font-family:Menlo,'DejaVu Sans Mono',consolas,'Courier New',monospace\"><span style=\"font-weight: bold\">Model: \"sequential\"</span>\n",
       "</pre>\n"
      ],
      "text/plain": [
       "\u001b[1mModel: \"sequential\"\u001b[0m\n"
      ]
     },
     "metadata": {},
     "output_type": "display_data"
    },
    {
     "data": {
      "text/html": [
       "<pre style=\"white-space:pre;overflow-x:auto;line-height:normal;font-family:Menlo,'DejaVu Sans Mono',consolas,'Courier New',monospace\">┏━━━━━━━━━━━━━━━━━━━━━━━━━━━━━━━━━━━━━━┳━━━━━━━━━━━━━━━━━━━━━━━━━━━━━┳━━━━━━━━━━━━━━━━━┓\n",
       "┃<span style=\"font-weight: bold\"> Layer (type)                         </span>┃<span style=\"font-weight: bold\"> Output Shape                </span>┃<span style=\"font-weight: bold\">         Param # </span>┃\n",
       "┡━━━━━━━━━━━━━━━━━━━━━━━━━━━━━━━━━━━━━━╇━━━━━━━━━━━━━━━━━━━━━━━━━━━━━╇━━━━━━━━━━━━━━━━━┩\n",
       "│ lstm_1 (<span style=\"color: #0087ff; text-decoration-color: #0087ff\">LSTM</span>)                        │ (<span style=\"color: #00d7ff; text-decoration-color: #00d7ff\">None</span>, <span style=\"color: #00af00; text-decoration-color: #00af00\">7</span>, <span style=\"color: #00af00; text-decoration-color: #00af00\">128</span>)              │          <span style=\"color: #00af00; text-decoration-color: #00af00\">67,584</span> │\n",
       "├──────────────────────────────────────┼─────────────────────────────┼─────────────────┤\n",
       "│ dropout_1 (<span style=\"color: #0087ff; text-decoration-color: #0087ff\">Dropout</span>)                  │ (<span style=\"color: #00d7ff; text-decoration-color: #00d7ff\">None</span>, <span style=\"color: #00af00; text-decoration-color: #00af00\">7</span>, <span style=\"color: #00af00; text-decoration-color: #00af00\">128</span>)              │               <span style=\"color: #00af00; text-decoration-color: #00af00\">0</span> │\n",
       "├──────────────────────────────────────┼─────────────────────────────┼─────────────────┤\n",
       "│ lstm_2 (<span style=\"color: #0087ff; text-decoration-color: #0087ff\">LSTM</span>)                        │ (<span style=\"color: #00d7ff; text-decoration-color: #00d7ff\">None</span>, <span style=\"color: #00af00; text-decoration-color: #00af00\">64</span>)                  │          <span style=\"color: #00af00; text-decoration-color: #00af00\">49,408</span> │\n",
       "├──────────────────────────────────────┼─────────────────────────────┼─────────────────┤\n",
       "│ dropout_2 (<span style=\"color: #0087ff; text-decoration-color: #0087ff\">Dropout</span>)                  │ (<span style=\"color: #00d7ff; text-decoration-color: #00d7ff\">None</span>, <span style=\"color: #00af00; text-decoration-color: #00af00\">64</span>)                  │               <span style=\"color: #00af00; text-decoration-color: #00af00\">0</span> │\n",
       "├──────────────────────────────────────┼─────────────────────────────┼─────────────────┤\n",
       "│ output (<span style=\"color: #0087ff; text-decoration-color: #0087ff\">Dense</span>)                       │ (<span style=\"color: #00d7ff; text-decoration-color: #00d7ff\">None</span>, <span style=\"color: #00af00; text-decoration-color: #00af00\">1</span>)                   │              <span style=\"color: #00af00; text-decoration-color: #00af00\">65</span> │\n",
       "└──────────────────────────────────────┴─────────────────────────────┴─────────────────┘\n",
       "</pre>\n"
      ],
      "text/plain": [
       "┏━━━━━━━━━━━━━━━━━━━━━━━━━━━━━━━━━━━━━━┳━━━━━━━━━━━━━━━━━━━━━━━━━━━━━┳━━━━━━━━━━━━━━━━━┓\n",
       "┃\u001b[1m \u001b[0m\u001b[1mLayer (type)                        \u001b[0m\u001b[1m \u001b[0m┃\u001b[1m \u001b[0m\u001b[1mOutput Shape               \u001b[0m\u001b[1m \u001b[0m┃\u001b[1m \u001b[0m\u001b[1m        Param #\u001b[0m\u001b[1m \u001b[0m┃\n",
       "┡━━━━━━━━━━━━━━━━━━━━━━━━━━━━━━━━━━━━━━╇━━━━━━━━━━━━━━━━━━━━━━━━━━━━━╇━━━━━━━━━━━━━━━━━┩\n",
       "│ lstm_1 (\u001b[38;5;33mLSTM\u001b[0m)                        │ (\u001b[38;5;45mNone\u001b[0m, \u001b[38;5;34m7\u001b[0m, \u001b[38;5;34m128\u001b[0m)              │          \u001b[38;5;34m67,584\u001b[0m │\n",
       "├──────────────────────────────────────┼─────────────────────────────┼─────────────────┤\n",
       "│ dropout_1 (\u001b[38;5;33mDropout\u001b[0m)                  │ (\u001b[38;5;45mNone\u001b[0m, \u001b[38;5;34m7\u001b[0m, \u001b[38;5;34m128\u001b[0m)              │               \u001b[38;5;34m0\u001b[0m │\n",
       "├──────────────────────────────────────┼─────────────────────────────┼─────────────────┤\n",
       "│ lstm_2 (\u001b[38;5;33mLSTM\u001b[0m)                        │ (\u001b[38;5;45mNone\u001b[0m, \u001b[38;5;34m64\u001b[0m)                  │          \u001b[38;5;34m49,408\u001b[0m │\n",
       "├──────────────────────────────────────┼─────────────────────────────┼─────────────────┤\n",
       "│ dropout_2 (\u001b[38;5;33mDropout\u001b[0m)                  │ (\u001b[38;5;45mNone\u001b[0m, \u001b[38;5;34m64\u001b[0m)                  │               \u001b[38;5;34m0\u001b[0m │\n",
       "├──────────────────────────────────────┼─────────────────────────────┼─────────────────┤\n",
       "│ output (\u001b[38;5;33mDense\u001b[0m)                       │ (\u001b[38;5;45mNone\u001b[0m, \u001b[38;5;34m1\u001b[0m)                   │              \u001b[38;5;34m65\u001b[0m │\n",
       "└──────────────────────────────────────┴─────────────────────────────┴─────────────────┘\n"
      ]
     },
     "metadata": {},
     "output_type": "display_data"
    },
    {
     "data": {
      "text/html": [
       "<pre style=\"white-space:pre;overflow-x:auto;line-height:normal;font-family:Menlo,'DejaVu Sans Mono',consolas,'Courier New',monospace\"><span style=\"font-weight: bold\"> Total params: </span><span style=\"color: #00af00; text-decoration-color: #00af00\">117,057</span> (457.25 KB)\n",
       "</pre>\n"
      ],
      "text/plain": [
       "\u001b[1m Total params: \u001b[0m\u001b[38;5;34m117,057\u001b[0m (457.25 KB)\n"
      ]
     },
     "metadata": {},
     "output_type": "display_data"
    },
    {
     "data": {
      "text/html": [
       "<pre style=\"white-space:pre;overflow-x:auto;line-height:normal;font-family:Menlo,'DejaVu Sans Mono',consolas,'Courier New',monospace\"><span style=\"font-weight: bold\"> Trainable params: </span><span style=\"color: #00af00; text-decoration-color: #00af00\">117,057</span> (457.25 KB)\n",
       "</pre>\n"
      ],
      "text/plain": [
       "\u001b[1m Trainable params: \u001b[0m\u001b[38;5;34m117,057\u001b[0m (457.25 KB)\n"
      ]
     },
     "metadata": {},
     "output_type": "display_data"
    },
    {
     "data": {
      "text/html": [
       "<pre style=\"white-space:pre;overflow-x:auto;line-height:normal;font-family:Menlo,'DejaVu Sans Mono',consolas,'Courier New',monospace\"><span style=\"font-weight: bold\"> Non-trainable params: </span><span style=\"color: #00af00; text-decoration-color: #00af00\">0</span> (0.00 B)\n",
       "</pre>\n"
      ],
      "text/plain": [
       "\u001b[1m Non-trainable params: \u001b[0m\u001b[38;5;34m0\u001b[0m (0.00 B)\n"
      ]
     },
     "metadata": {},
     "output_type": "display_data"
    }
   ],
   "source": [
    "from tensorflow.keras.layers import Input, LSTM, Dense, Dropout\n",
    "from tensorflow.keras.regularizers import l2\n",
    "\n",
    "# Enhanced LSTM Model Architecture\n",
    "model = Sequential([\n",
    "    Input(shape=(n_steps, 3), name='input_layer'),\n",
    "    LSTM(128, \n",
    "         activation='tanh',\n",
    "         return_sequences=True,\n",
    "         kernel_regularizer=l2(0.01),\n",
    "         recurrent_dropout=0.2,\n",
    "         name='lstm_1'),\n",
    "    Dropout(0.3, name='dropout_1'),\n",
    "    LSTM(64,\n",
    "         activation='tanh',\n",
    "         return_sequences=False,\n",
    "         kernel_regularizer=l2(0.005),\n",
    "         name='lstm_2'),\n",
    "    Dropout(0.2, name='dropout_2'),\n",
    "    Dense(1, activation='linear', name='output')\n",
    "])\n",
    "\n",
    "# Optimizer with learning rate scheduling\n",
    "optimizer = tf.keras.optimizers.Adam(\n",
    "    learning_rate=tf.keras.optimizers.schedules.ExponentialDecay(\n",
    "        initial_learning_rate=0.001,\n",
    "        decay_steps=1000,\n",
    "        decay_rate=0.95\n",
    "    ),\n",
    "    clipvalue=0.5\n",
    ")\n",
    "\n",
    "# Model compilation\n",
    "model.compile(\n",
    "    optimizer=optimizer,\n",
    "    loss='mse',\n",
    "    metrics=['mae', 'mse']\n",
    ")\n",
    "\n",
    "# Model summary\n",
    "model.summary()"
   ]
  },
  {
   "cell_type": "code",
   "execution_count": 12,
   "id": "44dfb98e",
   "metadata": {
    "execution": {
     "iopub.execute_input": "2025-04-14T16:04:11.266560Z",
     "iopub.status.busy": "2025-04-14T16:04:11.266347Z",
     "iopub.status.idle": "2025-04-14T16:04:11.273582Z",
     "shell.execute_reply": "2025-04-14T16:04:11.272991Z"
    },
    "papermill": {
     "duration": 0.015173,
     "end_time": "2025-04-14T16:04:11.274613",
     "exception": false,
     "start_time": "2025-04-14T16:04:11.259440",
     "status": "completed"
    },
    "tags": []
   },
   "outputs": [
    {
     "name": "stdout",
     "output_type": "stream",
     "text": [
      "Original NaN count: 80\n"
     ]
    }
   ],
   "source": [
    "# Before splitting, ensure no NaN in target (soil moisture)\n",
    "print(\"Original NaN count:\", merged_df['Avg_smlvl_at15cm'].isna().sum())\n",
    "\n",
    "# Fill NaN using forward-fill + interpolation (for time series)\n",
    "merged_df['Avg_smlvl_at15cm'] = merged_df['Avg_smlvl_at15cm'].interpolate().ffill().bfill()\n",
    "\n",
    "# Verifymerged_df['Avg_smlvl_at15cm'] = merged_df['Avg_smlvl_at15cm'].interpolate(limit=3).ffill().bfill()\n",
    "assert not merged_df['Avg_smlvl_at15cm'].isna().any(), \"NaNs still exist!\""
   ]
  },
  {
   "cell_type": "code",
   "execution_count": 13,
   "id": "9a457226",
   "metadata": {
    "execution": {
     "iopub.execute_input": "2025-04-14T16:04:11.287815Z",
     "iopub.status.busy": "2025-04-14T16:04:11.287620Z",
     "iopub.status.idle": "2025-04-14T16:04:11.296858Z",
     "shell.execute_reply": "2025-04-14T16:04:11.295928Z"
    },
    "papermill": {
     "duration": 0.01714,
     "end_time": "2025-04-14T16:04:11.297910",
     "exception": false,
     "start_time": "2025-04-14T16:04:11.280770",
     "status": "completed"
    },
    "tags": []
   },
   "outputs": [
    {
     "name": "stdout",
     "output_type": "stream",
     "text": [
      "X shape: (2338, 7, 3), y shape: (2338, 3)\n",
      "NaN in y: True\n"
     ]
    }
   ],
   "source": [
    "# Re-generate X, y with cleaned data\n",
    "X, y = create_sequences(\n",
    "    scaled_df[['air_temp_scaled', 'air_humidity_scaled', 'soil_moisture_scaled']].values,\n",
    "    n_steps=7\n",
    ")\n",
    "print(f\"X shape: {X.shape}, y shape: {y.shape}\")\n",
    "# Verify no NaN in y\n",
    "print(\"NaN in y:\", np.isnan(y).any())"
   ]
  },
  {
   "cell_type": "code",
   "execution_count": 14,
   "id": "8c60ca04",
   "metadata": {
    "execution": {
     "iopub.execute_input": "2025-04-14T16:04:11.310906Z",
     "iopub.status.busy": "2025-04-14T16:04:11.310709Z",
     "iopub.status.idle": "2025-04-14T16:04:11.315380Z",
     "shell.execute_reply": "2025-04-14T16:04:11.314747Z"
    },
    "papermill": {
     "duration": 0.012223,
     "end_time": "2025-04-14T16:04:11.316407",
     "exception": false,
     "start_time": "2025-04-14T16:04:11.304184",
     "status": "completed"
    },
    "tags": []
   },
   "outputs": [
    {
     "name": "stdout",
     "output_type": "stream",
     "text": [
      "Train dates: 1636 samples\n",
      "Test dates: 702 samples\n",
      "NaN in y_test: True\n"
     ]
    }
   ],
   "source": [
    "# Split ensuring no NaN in test set\n",
    "X_train, X_test, y_train, y_test = train_test_split(\n",
    "    X, y,\n",
    "    test_size=0.3,\n",
    "    shuffle=False  # Critical for time series\n",
    ")\n",
    "print(f\"Train dates: {X_train.shape[0]} samples\\nTest dates: {X_test.shape[0]} samples\")\n",
    "# Final check\n",
    "print(\"NaN in y_test:\", np.isnan(y_test).any())"
   ]
  },
  {
   "cell_type": "code",
   "execution_count": 15,
   "id": "e98d17b8",
   "metadata": {
    "execution": {
     "iopub.execute_input": "2025-04-14T16:04:11.329687Z",
     "iopub.status.busy": "2025-04-14T16:04:11.329193Z",
     "iopub.status.idle": "2025-04-14T16:04:11.333742Z",
     "shell.execute_reply": "2025-04-14T16:04:11.333184Z"
    },
    "papermill": {
     "duration": 0.012114,
     "end_time": "2025-04-14T16:04:11.334734",
     "exception": false,
     "start_time": "2025-04-14T16:04:11.322620",
     "status": "completed"
    },
    "tags": []
   },
   "outputs": [
    {
     "name": "stdout",
     "output_type": "stream",
     "text": [
      "Dropped 80 invalid test samples\n"
     ]
    }
   ],
   "source": [
    "# Force-clean the test set if needed\n",
    "valid_mask = ~np.isnan(y_test).any(axis=1)\n",
    "X_test = X_test[valid_mask]\n",
    "y_test = y_test[valid_mask]\n",
    "dropped = len(valid_mask) - sum(valid_mask)\n",
    "print(f\"Dropped {dropped} invalid test samples\")  "
   ]
  },
  {
   "cell_type": "code",
   "execution_count": 16,
   "id": "f9e6bea5",
   "metadata": {
    "execution": {
     "iopub.execute_input": "2025-04-14T16:04:11.348147Z",
     "iopub.status.busy": "2025-04-14T16:04:11.347890Z",
     "iopub.status.idle": "2025-04-14T16:04:11.353162Z",
     "shell.execute_reply": "2025-04-14T16:04:11.352436Z"
    },
    "papermill": {
     "duration": 0.013321,
     "end_time": "2025-04-14T16:04:11.354272",
     "exception": false,
     "start_time": "2025-04-14T16:04:11.340951",
     "status": "completed"
    },
    "tags": []
   },
   "outputs": [
    {
     "name": "stdout",
     "output_type": "stream",
     "text": [
      "X_train shape: (1636, 7, 3), y_train shape: (1636, 3)\n",
      "NaN in training: 0, 0\n",
      "NaN in testing: 0, 0\n",
      "Train moisture range: 0.00 to 1.00\n",
      "Test moisture range: 0.00 to 0.99\n"
     ]
    }
   ],
   "source": [
    "print(f\"X_train shape: {X_train.shape}, y_train shape: {y_train.shape}\")\n",
    "print(f\"NaN in training: {np.isnan(X_train).sum()}, {np.isnan(y_train).sum()}\")\n",
    "print(f\"NaN in testing: {np.isnan(X_test).sum()}, {np.isnan(y_test).sum()}\")\n",
    "print(f\"Train moisture range: {y_train.min():.2f} to {y_train.max():.2f}\")  \n",
    "print(f\"Test moisture range: {y_test.min():.2f} to {y_test.max():.2f}\")  "
   ]
  },
  {
   "cell_type": "code",
   "execution_count": 17,
   "id": "1fef99ee",
   "metadata": {
    "execution": {
     "iopub.execute_input": "2025-04-14T16:04:11.368439Z",
     "iopub.status.busy": "2025-04-14T16:04:11.367916Z",
     "iopub.status.idle": "2025-04-14T16:05:03.970280Z",
     "shell.execute_reply": "2025-04-14T16:05:03.969522Z"
    },
    "papermill": {
     "duration": 52.610486,
     "end_time": "2025-04-14T16:05:03.971553",
     "exception": false,
     "start_time": "2025-04-14T16:04:11.361067",
     "status": "completed"
    },
    "tags": []
   },
   "outputs": [
    {
     "name": "stdout",
     "output_type": "stream",
     "text": [
      "Epoch 1/50\n"
     ]
    },
    {
     "name": "stderr",
     "output_type": "stream",
     "text": [
      "I0000 00:00:1744646657.175902      65 cuda_dnn.cc:529] Loaded cuDNN version 90300\n"
     ]
    },
    {
     "name": "stdout",
     "output_type": "stream",
     "text": [
      "\u001b[1m52/52\u001b[0m \u001b[32m━━━━━━━━━━━━━━━━━━━━\u001b[0m\u001b[37m\u001b[0m \u001b[1m9s\u001b[0m 27ms/step - loss: 0.8479 - mae: 0.2648 - mse: 0.1193 - val_loss: 0.3306 - val_mae: 0.1220 - val_mse: 0.0231 - learning_rate: 0.0010\n",
      "Epoch 2/50\n",
      "\u001b[1m52/52\u001b[0m \u001b[32m━━━━━━━━━━━━━━━━━━━━\u001b[0m\u001b[37m\u001b[0m \u001b[1m1s\u001b[0m 17ms/step - loss: 0.2710 - mae: 0.1412 - mse: 0.0307 - val_loss: 0.1301 - val_mae: 0.1207 - val_mse: 0.0225 - learning_rate: 0.0010\n",
      "Epoch 3/50\n",
      "\u001b[1m52/52\u001b[0m \u001b[32m━━━━━━━━━━━━━━━━━━━━\u001b[0m\u001b[37m\u001b[0m \u001b[1m1s\u001b[0m 16ms/step - loss: 0.1178 - mae: 0.1383 - mse: 0.0298 - val_loss: 0.0710 - val_mae: 0.1215 - val_mse: 0.0229 - learning_rate: 0.0010\n",
      "Epoch 4/50\n",
      "\u001b[1m52/52\u001b[0m \u001b[32m━━━━━━━━━━━━━━━━━━━━\u001b[0m\u001b[37m\u001b[0m \u001b[1m1s\u001b[0m 18ms/step - loss: 0.0717 - mae: 0.1398 - mse: 0.0301 - val_loss: 0.0499 - val_mae: 0.1222 - val_mse: 0.0231 - learning_rate: 0.0010\n",
      "Epoch 5/50\n",
      "\u001b[1m52/52\u001b[0m \u001b[32m━━━━━━━━━━━━━━━━━━━━\u001b[0m\u001b[37m\u001b[0m \u001b[1m1s\u001b[0m 17ms/step - loss: 0.0535 - mae: 0.1392 - mse: 0.0295 - val_loss: 0.0392 - val_mae: 0.1207 - val_mse: 0.0224 - learning_rate: 0.0010\n",
      "Epoch 6/50\n",
      "\u001b[1m52/52\u001b[0m \u001b[32m━━━━━━━━━━━━━━━━━━━━\u001b[0m\u001b[37m\u001b[0m \u001b[1m1s\u001b[0m 17ms/step - loss: 0.0434 - mae: 0.1364 - mse: 0.0282 - val_loss: 0.0335 - val_mae: 0.1207 - val_mse: 0.0224 - learning_rate: 0.0010\n",
      "Epoch 7/50\n",
      "\u001b[1m52/52\u001b[0m \u001b[32m━━━━━━━━━━━━━━━━━━━━\u001b[0m\u001b[37m\u001b[0m \u001b[1m1s\u001b[0m 16ms/step - loss: 0.0385 - mae: 0.1365 - mse: 0.0284 - val_loss: 0.0315 - val_mae: 0.1246 - val_mse: 0.0240 - learning_rate: 0.0010\n",
      "Epoch 8/50\n",
      "\u001b[1m52/52\u001b[0m \u001b[32m━━━━━━━━━━━━━━━━━━━━\u001b[0m\u001b[37m\u001b[0m \u001b[1m1s\u001b[0m 17ms/step - loss: 0.0370 - mae: 0.1405 - mse: 0.0300 - val_loss: 0.0280 - val_mae: 0.1213 - val_mse: 0.0225 - learning_rate: 0.0010\n",
      "Epoch 9/50\n",
      "\u001b[1m52/52\u001b[0m \u001b[32m━━━━━━━━━━━━━━━━━━━━\u001b[0m\u001b[37m\u001b[0m \u001b[1m1s\u001b[0m 17ms/step - loss: 0.0338 - mae: 0.1381 - mse: 0.0287 - val_loss: 0.0267 - val_mae: 0.1211 - val_mse: 0.0225 - learning_rate: 0.0010\n",
      "Epoch 10/50\n",
      "\u001b[1m52/52\u001b[0m \u001b[32m━━━━━━━━━━━━━━━━━━━━\u001b[0m\u001b[37m\u001b[0m \u001b[1m1s\u001b[0m 16ms/step - loss: 0.0329 - mae: 0.1368 - mse: 0.0290 - val_loss: 0.0259 - val_mae: 0.1217 - val_mse: 0.0226 - learning_rate: 0.0010\n",
      "Epoch 11/50\n",
      "\u001b[1m52/52\u001b[0m \u001b[32m━━━━━━━━━━━━━━━━━━━━\u001b[0m\u001b[37m\u001b[0m \u001b[1m1s\u001b[0m 16ms/step - loss: 0.0325 - mae: 0.1397 - mse: 0.0294 - val_loss: 0.0260 - val_mae: 0.1225 - val_mse: 0.0233 - learning_rate: 0.0010\n",
      "Epoch 12/50\n",
      "\u001b[1m52/52\u001b[0m \u001b[32m━━━━━━━━━━━━━━━━━━━━\u001b[0m\u001b[37m\u001b[0m \u001b[1m1s\u001b[0m 19ms/step - loss: 0.0326 - mae: 0.1404 - mse: 0.0299 - val_loss: 0.0256 - val_mae: 0.1231 - val_mse: 0.0231 - learning_rate: 0.0010\n",
      "Epoch 13/50\n",
      "\u001b[1m52/52\u001b[0m \u001b[32m━━━━━━━━━━━━━━━━━━━━\u001b[0m\u001b[37m\u001b[0m \u001b[1m1s\u001b[0m 18ms/step - loss: 0.0311 - mae: 0.1368 - mse: 0.0287 - val_loss: 0.0256 - val_mae: 0.1230 - val_mse: 0.0234 - learning_rate: 0.0010\n",
      "Epoch 14/50\n",
      "\u001b[1m52/52\u001b[0m \u001b[32m━━━━━━━━━━━━━━━━━━━━\u001b[0m\u001b[37m\u001b[0m \u001b[1m1s\u001b[0m 16ms/step - loss: 0.0306 - mae: 0.1374 - mse: 0.0285 - val_loss: 0.0269 - val_mae: 0.1275 - val_mse: 0.0252 - learning_rate: 0.0010\n",
      "Epoch 15/50\n",
      "\u001b[1m52/52\u001b[0m \u001b[32m━━━━━━━━━━━━━━━━━━━━\u001b[0m\u001b[37m\u001b[0m \u001b[1m1s\u001b[0m 17ms/step - loss: 0.0319 - mae: 0.1419 - mse: 0.0301 - val_loss: 0.0253 - val_mae: 0.1234 - val_mse: 0.0236 - learning_rate: 0.0010\n",
      "Epoch 16/50\n",
      "\u001b[1m52/52\u001b[0m \u001b[32m━━━━━━━━━━━━━━━━━━━━\u001b[0m\u001b[37m\u001b[0m \u001b[1m1s\u001b[0m 16ms/step - loss: 0.0302 - mae: 0.1372 - mse: 0.0286 - val_loss: 0.0250 - val_mae: 0.1230 - val_mse: 0.0236 - learning_rate: 0.0010\n",
      "Epoch 17/50\n",
      "\u001b[1m52/52\u001b[0m \u001b[32m━━━━━━━━━━━━━━━━━━━━\u001b[0m\u001b[37m\u001b[0m \u001b[1m1s\u001b[0m 17ms/step - loss: 0.0301 - mae: 0.1373 - mse: 0.0286 - val_loss: 0.0244 - val_mae: 0.1220 - val_mse: 0.0230 - learning_rate: 0.0010\n",
      "Epoch 18/50\n",
      "\u001b[1m52/52\u001b[0m \u001b[32m━━━━━━━━━━━━━━━━━━━━\u001b[0m\u001b[37m\u001b[0m \u001b[1m1s\u001b[0m 17ms/step - loss: 0.0306 - mae: 0.1390 - mse: 0.0293 - val_loss: 0.0242 - val_mae: 0.1219 - val_mse: 0.0228 - learning_rate: 0.0010\n",
      "Epoch 19/50\n",
      "\u001b[1m52/52\u001b[0m \u001b[32m━━━━━━━━━━━━━━━━━━━━\u001b[0m\u001b[37m\u001b[0m \u001b[1m1s\u001b[0m 16ms/step - loss: 0.0293 - mae: 0.1352 - mse: 0.0279 - val_loss: 0.0298 - val_mae: 0.1363 - val_mse: 0.0286 - learning_rate: 0.0010\n",
      "Epoch 20/50\n",
      "\u001b[1m52/52\u001b[0m \u001b[32m━━━━━━━━━━━━━━━━━━━━\u001b[0m\u001b[37m\u001b[0m \u001b[1m1s\u001b[0m 16ms/step - loss: 0.0318 - mae: 0.1421 - mse: 0.0305 - val_loss: 0.0255 - val_mae: 0.1248 - val_mse: 0.0242 - learning_rate: 0.0010\n",
      "Epoch 21/50\n",
      "\u001b[1m49/52\u001b[0m \u001b[32m━━━━━━━━━━━━━━━━━━\u001b[0m\u001b[37m━━\u001b[0m \u001b[1m0s\u001b[0m 14ms/step - loss: 0.0311 - mae: 0.1399 - mse: 0.0298\n",
      "Epoch 21: ReduceLROnPlateau reducing learning rate to 0.0005000000237487257.\n",
      "\u001b[1m52/52\u001b[0m \u001b[32m━━━━━━━━━━━━━━━━━━━━\u001b[0m\u001b[37m\u001b[0m \u001b[1m1s\u001b[0m 17ms/step - loss: 0.0310 - mae: 0.1397 - mse: 0.0297 - val_loss: 0.0250 - val_mae: 0.1239 - val_mse: 0.0238 - learning_rate: 0.0010\n",
      "Epoch 22/50\n",
      "\u001b[1m52/52\u001b[0m \u001b[32m━━━━━━━━━━━━━━━━━━━━\u001b[0m\u001b[37m\u001b[0m \u001b[1m1s\u001b[0m 16ms/step - loss: 0.0302 - mae: 0.1389 - mse: 0.0289 - val_loss: 0.0243 - val_mae: 0.1221 - val_mse: 0.0230 - learning_rate: 5.0000e-04\n",
      "Epoch 23/50\n",
      "\u001b[1m52/52\u001b[0m \u001b[32m━━━━━━━━━━━━━━━━━━━━\u001b[0m\u001b[37m\u001b[0m \u001b[1m1s\u001b[0m 17ms/step - loss: 0.0293 - mae: 0.1363 - mse: 0.0281 - val_loss: 0.0241 - val_mae: 0.1222 - val_mse: 0.0229 - learning_rate: 5.0000e-04\n",
      "Epoch 24/50\n",
      "\u001b[1m50/52\u001b[0m \u001b[32m━━━━━━━━━━━━━━━━━━━\u001b[0m\u001b[37m━\u001b[0m \u001b[1m0s\u001b[0m 14ms/step - loss: 0.0296 - mae: 0.1367 - mse: 0.0285\n",
      "Epoch 24: ReduceLROnPlateau reducing learning rate to 0.0002500000118743628.\n",
      "\u001b[1m52/52\u001b[0m \u001b[32m━━━━━━━━━━━━━━━━━━━━\u001b[0m\u001b[37m\u001b[0m \u001b[1m1s\u001b[0m 16ms/step - loss: 0.0296 - mae: 0.1367 - mse: 0.0285 - val_loss: 0.0245 - val_mae: 0.1228 - val_mse: 0.0234 - learning_rate: 5.0000e-04\n",
      "Epoch 25/50\n",
      "\u001b[1m52/52\u001b[0m \u001b[32m━━━━━━━━━━━━━━━━━━━━\u001b[0m\u001b[37m\u001b[0m \u001b[1m1s\u001b[0m 17ms/step - loss: 0.0302 - mae: 0.1389 - mse: 0.0291 - val_loss: 0.0239 - val_mae: 0.1220 - val_mse: 0.0228 - learning_rate: 2.5000e-04\n",
      "Epoch 26/50\n",
      "\u001b[1m52/52\u001b[0m \u001b[32m━━━━━━━━━━━━━━━━━━━━\u001b[0m\u001b[37m\u001b[0m \u001b[1m1s\u001b[0m 16ms/step - loss: 0.0292 - mae: 0.1364 - mse: 0.0281 - val_loss: 0.0242 - val_mae: 0.1224 - val_mse: 0.0232 - learning_rate: 2.5000e-04\n",
      "Epoch 27/50\n",
      "\u001b[1m52/52\u001b[0m \u001b[32m━━━━━━━━━━━━━━━━━━━━\u001b[0m\u001b[37m\u001b[0m \u001b[1m1s\u001b[0m 17ms/step - loss: 0.0291 - mae: 0.1363 - mse: 0.0281 - val_loss: 0.0241 - val_mae: 0.1228 - val_mse: 0.0230 - learning_rate: 2.5000e-04\n",
      "Epoch 28/50\n",
      "\u001b[1m49/52\u001b[0m \u001b[32m━━━━━━━━━━━━━━━━━━\u001b[0m\u001b[37m━━\u001b[0m \u001b[1m0s\u001b[0m 14ms/step - loss: 0.0286 - mae: 0.1342 - mse: 0.0275\n",
      "Epoch 28: ReduceLROnPlateau reducing learning rate to 0.0001250000059371814.\n",
      "\u001b[1m52/52\u001b[0m \u001b[32m━━━━━━━━━━━━━━━━━━━━\u001b[0m\u001b[37m\u001b[0m \u001b[1m1s\u001b[0m 17ms/step - loss: 0.0286 - mae: 0.1343 - mse: 0.0275 - val_loss: 0.0239 - val_mae: 0.1220 - val_mse: 0.0228 - learning_rate: 2.5000e-04\n",
      "Epoch 29/50\n",
      "\u001b[1m52/52\u001b[0m \u001b[32m━━━━━━━━━━━━━━━━━━━━\u001b[0m\u001b[37m\u001b[0m \u001b[1m1s\u001b[0m 16ms/step - loss: 0.0286 - mae: 0.1347 - mse: 0.0275 - val_loss: 0.0239 - val_mae: 0.1220 - val_mse: 0.0228 - learning_rate: 1.2500e-04\n",
      "Epoch 30/50\n",
      "\u001b[1m52/52\u001b[0m \u001b[32m━━━━━━━━━━━━━━━━━━━━\u001b[0m\u001b[37m\u001b[0m \u001b[1m1s\u001b[0m 16ms/step - loss: 0.0291 - mae: 0.1364 - mse: 0.0280 - val_loss: 0.0239 - val_mae: 0.1221 - val_mse: 0.0228 - learning_rate: 1.2500e-04\n",
      "Epoch 31/50\n",
      "\u001b[1m49/52\u001b[0m \u001b[32m━━━━━━━━━━━━━━━━━━\u001b[0m\u001b[37m━━\u001b[0m \u001b[1m0s\u001b[0m 13ms/step - loss: 0.0285 - mae: 0.1350 - mse: 0.0275\n",
      "Epoch 31: ReduceLROnPlateau reducing learning rate to 6.25000029685907e-05.\n",
      "\u001b[1m52/52\u001b[0m \u001b[32m━━━━━━━━━━━━━━━━━━━━\u001b[0m\u001b[37m\u001b[0m \u001b[1m1s\u001b[0m 16ms/step - loss: 0.0286 - mae: 0.1351 - mse: 0.0275 - val_loss: 0.0239 - val_mae: 0.1220 - val_mse: 0.0229 - learning_rate: 1.2500e-04\n",
      "Epoch 32/50\n",
      "\u001b[1m52/52\u001b[0m \u001b[32m━━━━━━━━━━━━━━━━━━━━\u001b[0m\u001b[37m\u001b[0m \u001b[1m1s\u001b[0m 17ms/step - loss: 0.0292 - mae: 0.1374 - mse: 0.0282 - val_loss: 0.0238 - val_mae: 0.1220 - val_mse: 0.0228 - learning_rate: 6.2500e-05\n",
      "Epoch 33/50\n",
      "\u001b[1m52/52\u001b[0m \u001b[32m━━━━━━━━━━━━━━━━━━━━\u001b[0m\u001b[37m\u001b[0m \u001b[1m1s\u001b[0m 17ms/step - loss: 0.0292 - mae: 0.1374 - mse: 0.0282 - val_loss: 0.0238 - val_mae: 0.1221 - val_mse: 0.0228 - learning_rate: 6.2500e-05\n",
      "Epoch 34/50\n",
      "\u001b[1m49/52\u001b[0m \u001b[32m━━━━━━━━━━━━━━━━━━\u001b[0m\u001b[37m━━\u001b[0m \u001b[1m0s\u001b[0m 14ms/step - loss: 0.0287 - mae: 0.1349 - mse: 0.0277\n",
      "Epoch 34: ReduceLROnPlateau reducing learning rate to 3.125000148429535e-05.\n",
      "\u001b[1m52/52\u001b[0m \u001b[32m━━━━━━━━━━━━━━━━━━━━\u001b[0m\u001b[37m\u001b[0m \u001b[1m1s\u001b[0m 17ms/step - loss: 0.0287 - mae: 0.1349 - mse: 0.0277 - val_loss: 0.0239 - val_mae: 0.1220 - val_mse: 0.0229 - learning_rate: 6.2500e-05\n",
      "Epoch 35/50\n",
      "\u001b[1m52/52\u001b[0m \u001b[32m━━━━━━━━━━━━━━━━━━━━\u001b[0m\u001b[37m\u001b[0m \u001b[1m1s\u001b[0m 16ms/step - loss: 0.0292 - mae: 0.1365 - mse: 0.0282 - val_loss: 0.0239 - val_mae: 0.1220 - val_mse: 0.0229 - learning_rate: 3.1250e-05\n",
      "Epoch 36/50\n",
      "\u001b[1m52/52\u001b[0m \u001b[32m━━━━━━━━━━━━━━━━━━━━\u001b[0m\u001b[37m\u001b[0m \u001b[1m1s\u001b[0m 17ms/step - loss: 0.0291 - mae: 0.1359 - mse: 0.0281 - val_loss: 0.0238 - val_mae: 0.1220 - val_mse: 0.0228 - learning_rate: 3.1250e-05\n",
      "Epoch 37/50\n",
      "\u001b[1m49/52\u001b[0m \u001b[32m━━━━━━━━━━━━━━━━━━\u001b[0m\u001b[37m━━\u001b[0m \u001b[1m0s\u001b[0m 14ms/step - loss: 0.0277 - mae: 0.1325 - mse: 0.0267\n",
      "Epoch 37: ReduceLROnPlateau reducing learning rate to 1.5625000742147677e-05.\n",
      "\u001b[1m52/52\u001b[0m \u001b[32m━━━━━━━━━━━━━━━━━━━━\u001b[0m\u001b[37m\u001b[0m \u001b[1m1s\u001b[0m 16ms/step - loss: 0.0278 - mae: 0.1327 - mse: 0.0268 - val_loss: 0.0238 - val_mae: 0.1220 - val_mse: 0.0228 - learning_rate: 3.1250e-05\n",
      "Epoch 38/50\n",
      "\u001b[1m52/52\u001b[0m \u001b[32m━━━━━━━━━━━━━━━━━━━━\u001b[0m\u001b[37m\u001b[0m \u001b[1m1s\u001b[0m 17ms/step - loss: 0.0290 - mae: 0.1357 - mse: 0.0280 - val_loss: 0.0238 - val_mae: 0.1220 - val_mse: 0.0228 - learning_rate: 1.5625e-05\n",
      "Epoch 39/50\n",
      "\u001b[1m52/52\u001b[0m \u001b[32m━━━━━━━━━━━━━━━━━━━━\u001b[0m\u001b[37m\u001b[0m \u001b[1m1s\u001b[0m 16ms/step - loss: 0.0287 - mae: 0.1359 - mse: 0.0277 - val_loss: 0.0238 - val_mae: 0.1220 - val_mse: 0.0228 - learning_rate: 1.5625e-05\n",
      "Epoch 40/50\n",
      "\u001b[1m49/52\u001b[0m \u001b[32m━━━━━━━━━━━━━━━━━━\u001b[0m\u001b[37m━━\u001b[0m \u001b[1m0s\u001b[0m 14ms/step - loss: 0.0286 - mae: 0.1339 - mse: 0.0276\n",
      "Epoch 40: ReduceLROnPlateau reducing learning rate to 7.812500371073838e-06.\n",
      "\u001b[1m52/52\u001b[0m \u001b[32m━━━━━━━━━━━━━━━━━━━━\u001b[0m\u001b[37m\u001b[0m \u001b[1m1s\u001b[0m 16ms/step - loss: 0.0286 - mae: 0.1341 - mse: 0.0276 - val_loss: 0.0238 - val_mae: 0.1220 - val_mse: 0.0228 - learning_rate: 1.5625e-05\n",
      "Epoch 41/50\n",
      "\u001b[1m52/52\u001b[0m \u001b[32m━━━━━━━━━━━━━━━━━━━━\u001b[0m\u001b[37m\u001b[0m \u001b[1m1s\u001b[0m 16ms/step - loss: 0.0289 - mae: 0.1353 - mse: 0.0279 - val_loss: 0.0238 - val_mae: 0.1220 - val_mse: 0.0228 - learning_rate: 7.8125e-06\n",
      "Epoch 42/50\n",
      "\u001b[1m52/52\u001b[0m \u001b[32m━━━━━━━━━━━━━━━━━━━━\u001b[0m\u001b[37m\u001b[0m \u001b[1m1s\u001b[0m 16ms/step - loss: 0.0287 - mae: 0.1354 - mse: 0.0277 - val_loss: 0.0238 - val_mae: 0.1220 - val_mse: 0.0228 - learning_rate: 7.8125e-06\n",
      "Epoch 43/50\n",
      "\u001b[1m52/52\u001b[0m \u001b[32m━━━━━━━━━━━━━━━━━━━━\u001b[0m\u001b[37m\u001b[0m \u001b[1m1s\u001b[0m 17ms/step - loss: 0.0294 - mae: 0.1377 - mse: 0.0284 - val_loss: 0.0238 - val_mae: 0.1220 - val_mse: 0.0228 - learning_rate: 7.8125e-06\n",
      "Epoch 44/50\n",
      "\u001b[1m52/52\u001b[0m \u001b[32m━━━━━━━━━━━━━━━━━━━━\u001b[0m\u001b[37m\u001b[0m \u001b[1m1s\u001b[0m 16ms/step - loss: 0.0290 - mae: 0.1364 - mse: 0.0280 - val_loss: 0.0238 - val_mae: 0.1220 - val_mse: 0.0228 - learning_rate: 7.8125e-06\n",
      "Epoch 45/50\n",
      "\u001b[1m52/52\u001b[0m \u001b[32m━━━━━━━━━━━━━━━━━━━━\u001b[0m\u001b[37m\u001b[0m \u001b[1m1s\u001b[0m 17ms/step - loss: 0.0294 - mae: 0.1368 - mse: 0.0284 - val_loss: 0.0238 - val_mae: 0.1221 - val_mse: 0.0228 - learning_rate: 7.8125e-06\n",
      "Epoch 46/50\n",
      "\u001b[1m49/52\u001b[0m \u001b[32m━━━━━━━━━━━━━━━━━━\u001b[0m\u001b[37m━━\u001b[0m \u001b[1m0s\u001b[0m 13ms/step - loss: 0.0291 - mae: 0.1364 - mse: 0.0281\n",
      "Epoch 46: ReduceLROnPlateau reducing learning rate to 3.906250185536919e-06.\n",
      "\u001b[1m52/52\u001b[0m \u001b[32m━━━━━━━━━━━━━━━━━━━━\u001b[0m\u001b[37m\u001b[0m \u001b[1m1s\u001b[0m 16ms/step - loss: 0.0291 - mae: 0.1364 - mse: 0.0281 - val_loss: 0.0238 - val_mae: 0.1220 - val_mse: 0.0228 - learning_rate: 7.8125e-06\n",
      "Epoch 47/50\n",
      "\u001b[1m52/52\u001b[0m \u001b[32m━━━━━━━━━━━━━━━━━━━━\u001b[0m\u001b[37m\u001b[0m \u001b[1m1s\u001b[0m 16ms/step - loss: 0.0299 - mae: 0.1385 - mse: 0.0289 - val_loss: 0.0238 - val_mae: 0.1220 - val_mse: 0.0228 - learning_rate: 3.9063e-06\n",
      "Epoch 48/50\n",
      "\u001b[1m52/52\u001b[0m \u001b[32m━━━━━━━━━━━━━━━━━━━━\u001b[0m\u001b[37m\u001b[0m \u001b[1m1s\u001b[0m 17ms/step - loss: 0.0299 - mae: 0.1382 - mse: 0.0289 - val_loss: 0.0238 - val_mae: 0.1220 - val_mse: 0.0228 - learning_rate: 3.9063e-06\n",
      "Epoch 49/50\n",
      "\u001b[1m51/52\u001b[0m \u001b[32m━━━━━━━━━━━━━━━━━━━\u001b[0m\u001b[37m━\u001b[0m \u001b[1m0s\u001b[0m 16ms/step - loss: 0.0296 - mae: 0.1369 - mse: 0.0286\n",
      "Epoch 49: ReduceLROnPlateau reducing learning rate to 1.9531250927684596e-06.\n",
      "\u001b[1m52/52\u001b[0m \u001b[32m━━━━━━━━━━━━━━━━━━━━\u001b[0m\u001b[37m\u001b[0m \u001b[1m1s\u001b[0m 19ms/step - loss: 0.0296 - mae: 0.1368 - mse: 0.0286 - val_loss: 0.0238 - val_mae: 0.1220 - val_mse: 0.0228 - learning_rate: 3.9063e-06\n",
      "Epoch 50/50\n",
      "\u001b[1m52/52\u001b[0m \u001b[32m━━━━━━━━━━━━━━━━━━━━\u001b[0m\u001b[37m\u001b[0m \u001b[1m1s\u001b[0m 17ms/step - loss: 0.0284 - mae: 0.1336 - mse: 0.0274 - val_loss: 0.0238 - val_mae: 0.1220 - val_mse: 0.0228 - learning_rate: 1.9531e-06\n"
     ]
    }
   ],
   "source": [
    "from tensorflow.keras.callbacks import EarlyStopping, ReduceLROnPlateau, ModelCheckpoint, TensorBoard\n",
    "\n",
    "# Initialize optimizer with reasonable defaults\n",
    "optimizer = tf.keras.optimizers.Adam(\n",
    "    learning_rate=0.001,  # Good starting point for LSTMs\n",
    "    clipvalue=0.5        # Gradient clipping\n",
    ")\n",
    "model.compile(optimizer=optimizer, loss='mse', metrics=['mae', 'mse'])\n",
    "\n",
    "# Training configuration\n",
    "history = model.fit(\n",
    "    X_train, y_train,\n",
    "    epochs=50,  # Reduced from 200 based on your observation\n",
    "    batch_size=32,\n",
    "    validation_data=(X_test, y_test),\n",
    "    callbacks=[\n",
    "        EarlyStopping(patience=8, monitor='val_loss', restore_best_weights=True),  # More aggressive early stopping\n",
    "        ReduceLROnPlateau(monitor='val_loss', patience=3, factor=0.5, verbose=1),  # Faster LR reduction\n",
    "        ModelCheckpoint('best_model.keras', save_best_only=True),\n",
    "        TensorBoard(log_dir='./logs')\n",
    "    ],\n",
    "    verbose=1\n",
    ")"
   ]
  },
  {
   "cell_type": "code",
   "execution_count": 18,
   "id": "3920c955",
   "metadata": {
    "execution": {
     "iopub.execute_input": "2025-04-14T16:05:04.090983Z",
     "iopub.status.busy": "2025-04-14T16:05:04.090337Z",
     "iopub.status.idle": "2025-04-14T16:05:04.252418Z",
     "shell.execute_reply": "2025-04-14T16:05:04.251772Z"
    },
    "papermill": {
     "duration": 0.200247,
     "end_time": "2025-04-14T16:05:04.253683",
     "exception": false,
     "start_time": "2025-04-14T16:05:04.053436",
     "status": "completed"
    },
    "tags": []
   },
   "outputs": [
    {
     "data": {
      "image/png": "[encoded data removed]",
      "text/plain": [
       "<Figure size 640x480 with 1 Axes>"
      ]
     },
     "metadata": {},
     "output_type": "display_data"
    }
   ],
   "source": [
    "plt.plot(history.history['loss'], label='Training Loss')\n",
    "plt.plot(history.history['val_loss'], label='Validation Loss')\n",
    "plt.title('Model Convergence')\n",
    "plt.xlabel('Epochs')\n",
    "plt.ylabel('MSE Loss')\n",
    "plt.legend()\n",
    "plt.show()"
   ]
  },
  {
   "cell_type": "code",
   "execution_count": 19,
   "id": "cd6b4eba",
   "metadata": {
    "execution": {
     "iopub.execute_input": "2025-04-14T16:05:04.328742Z",
     "iopub.status.busy": "2025-04-14T16:05:04.328543Z",
     "iopub.status.idle": "2025-04-14T16:05:04.700962Z",
     "shell.execute_reply": "2025-04-14T16:05:04.700380Z"
    },
    "papermill": {
     "duration": 0.410598,
     "end_time": "2025-04-14T16:05:04.702082",
     "exception": false,
     "start_time": "2025-04-14T16:05:04.291484",
     "status": "completed"
    },
    "tags": []
   },
   "outputs": [
    {
     "name": "stdout",
     "output_type": "stream",
     "text": [
      "\u001b[1m1/1\u001b[0m \u001b[32m━━━━━━━━━━━━━━━━━━━━\u001b[0m\u001b[37m\u001b[0m \u001b[1m0s\u001b[0m 323ms/step\n",
      "Predicted moisture: 52.57 (Original scale)\n"
     ]
    }
   ],
   "source": [
    "# Sample prediction\n",
    "test_sample = X_test[0:1]  # First test sample\n",
    "prediction = model.predict(test_sample)[0][0]\n",
    "\n",
    "# Create dummy array with ALL original features (fill others with 0)\n",
    "dummy_array = np.zeros((1, 4))  # 4 features total\n",
    "dummy_array[0, 2] = prediction  # Assuming soil_moisture is 3rd column (0-indexed)\n",
    "\n",
    "# Convert back to original scale\n",
    "pred_original = scaler.inverse_transform(dummy_array)[0, 2]  # Get 3rd column\n",
    "\n",
    "print(f\"Predicted moisture: {pred_original:.2f} (Original scale)\")"
   ]
  },
  {
   "cell_type": "code",
   "execution_count": 20,
   "id": "e5123647",
   "metadata": {
    "execution": {
     "iopub.execute_input": "2025-04-14T16:05:04.776262Z",
     "iopub.status.busy": "2025-04-14T16:05:04.776001Z",
     "iopub.status.idle": "2025-04-14T16:05:05.431513Z",
     "shell.execute_reply": "2025-04-14T16:05:05.430826Z"
    },
    "papermill": {
     "duration": 0.693986,
     "end_time": "2025-04-14T16:05:05.433326",
     "exception": false,
     "start_time": "2025-04-14T16:05:04.739340",
     "status": "completed"
    },
    "tags": []
   },
   "outputs": [
    {
     "name": "stdout",
     "output_type": "stream",
     "text": [
      "\u001b[1m20/20\u001b[0m \u001b[32m━━━━━━━━━━━━━━━━━━━━\u001b[0m\u001b[37m\u001b[0m \u001b[1m0s\u001b[0m 5ms/step\n",
      "MAE: 0.1017\n",
      "RMSE: 0.1312\n"
     ]
    },
    {
     "data": {
      "image/png": "[encoded data removed]",
      "text/plain": [
       "<Figure size 1000x400 with 1 Axes>"
      ]
     },
     "metadata": {},
     "output_type": "display_data"
    },
    {
     "name": "stdout",
     "output_type": "stream",
     "text": [
      "\n",
      "Shapes - y_test_moisture: (622,), y_pred: (622,)\n"
     ]
    }
   ],
   "source": [
    "import numpy as np\n",
    "import matplotlib.pyplot as plt\n",
    "from sklearn.metrics import mean_absolute_error, mean_squared_error\n",
    "\n",
    "# 1. Extract ONLY soil moisture from y_test (assuming last column)\n",
    "y_test_moisture = y_test[:, -1]  # Use correct column index if different\n",
    "\n",
    "# 2. Get predictions and flatten\n",
    "y_pred = model.predict(X_test).flatten()\n",
    "\n",
    "# 3. Calculate metrics\n",
    "mae = mean_absolute_error(y_test_moisture, y_pred)\n",
    "rmse = np.sqrt(mean_squared_error(y_test_moisture, y_pred))\n",
    "print(f\"MAE: {mae:.4f}\\nRMSE: {rmse:.4f}\")\n",
    "\n",
    "# 4. Visual comparison\n",
    "plt.figure(figsize=(10,4))\n",
    "plt.plot(y_test_moisture[:100], label='Actual', marker='o')\n",
    "plt.plot(y_pred[:100], label='Predicted', alpha=0.7, marker='x')\n",
    "plt.title(\"Soil Moisture: Actual vs Predicted\")\n",
    "plt.ylabel(\"Scaled Moisture\")\n",
    "plt.legend()\n",
    "plt.show()\n",
    "\n",
    "# Shape verification\n",
    "print(f\"\\nShapes - y_test_moisture: {y_test_moisture.shape}, y_pred: {y_pred.shape}\")"
   ]
  },
  {
   "cell_type": "code",
   "execution_count": 21,
   "id": "3f12acb7",
   "metadata": {
    "execution": {
     "iopub.execute_input": "2025-04-14T16:05:05.510629Z",
     "iopub.status.busy": "2025-04-14T16:05:05.510397Z",
     "iopub.status.idle": "2025-04-14T16:05:05.659271Z",
     "shell.execute_reply": "2025-04-14T16:05:05.658315Z"
    },
    "papermill": {
     "duration": 0.188273,
     "end_time": "2025-04-14T16:05:05.660521",
     "exception": false,
     "start_time": "2025-04-14T16:05:05.472248",
     "status": "completed"
    },
    "tags": []
   },
   "outputs": [
    {
     "name": "stdout",
     "output_type": "stream",
     "text": [
      "✅ Model and scaler saved successfully!\n"
     ]
    }
   ],
   "source": [
    "import joblib  # Add this import at the top of your notebook\n",
    "from tensorflow.keras.models import load_model\n",
    "\n",
    "# 1. Save model and scaler\n",
    "model.save('final_soil_moisture_model.keras')\n",
    "joblib.dump(scaler, 'soil_scaler.save')\n",
    "\n",
    "# 2. Verify saving worked\n",
    "try:\n",
    "    test_model = load_model('final_soil_moisture_model.keras')\n",
    "    test_scaler = joblib.load('soil_scaler.save')\n",
    "    print(\"✅ Model and scaler saved successfully!\")\n",
    "except Exception as e:\n",
    "    print(f\"Error loading saved files: {e}\")"
   ]
  },
  {
   "cell_type": "code",
   "execution_count": 22,
   "id": "ad8a5252",
   "metadata": {
    "execution": {
     "iopub.execute_input": "2025-04-14T16:05:05.738876Z",
     "iopub.status.busy": "2025-04-14T16:05:05.738630Z",
     "iopub.status.idle": "2025-04-14T16:05:05.742564Z",
     "shell.execute_reply": "2025-04-14T16:05:05.742029Z"
    },
    "papermill": {
     "duration": 0.043149,
     "end_time": "2025-04-14T16:05:05.743563",
     "exception": false,
     "start_time": "2025-04-14T16:05:05.700414",
     "status": "completed"
    },
    "tags": []
   },
   "outputs": [],
   "source": [
    "def predict_moisture(temp, humidity, rainfall):\n",
    "    # Scale inputs (add dummy moisture)\n",
    "    scaled = scaler.transform([[temp, humidity, rainfall, 0]])[0][:3]  \n",
    "    prediction = model.predict(np.array([scaled]))[0][0]\n",
    "    return scaler.inverse_transform([[0, 0, 0, prediction]])[0][3]"
   ]
  },
  {
   "cell_type": "code",
   "execution_count": 23,
   "id": "96ebc514",
   "metadata": {
    "execution": {
     "iopub.execute_input": "2025-04-14T16:05:05.818985Z",
     "iopub.status.busy": "2025-04-14T16:05:05.818759Z",
     "iopub.status.idle": "2025-04-14T16:05:05.823384Z",
     "shell.execute_reply": "2025-04-14T16:05:05.822855Z"
    },
    "papermill": {
     "duration": 0.043685,
     "end_time": "2025-04-14T16:05:05.824447",
     "exception": false,
     "start_time": "2025-04-14T16:05:05.780762",
     "status": "completed"
    },
    "tags": []
   },
   "outputs": [],
   "source": [
    "def predict_moisture(temp, humidity, rainfall):\n",
    "    \"\"\"Proper prediction with feature names handling\"\"\"\n",
    "    # Create DataFrame with original feature names\n",
    "    input_df = pd.DataFrame([[temp, humidity, rainfall, 0]], \n",
    "                          columns=['air_temp', 'air_humidity', 'rainfall', 'soil_moisture'])\n",
    "    \n",
    "    # Scale\n",
    "    scaled = scaler.transform(input_df)[0, :3]  # Get first 3 scaled features\n",
    "    \n",
    "    # Reshape for LSTM\n",
    "    prediction_input = scaled.reshape(1, 1, 3)\n",
    "    \n",
    "    # Predict and inverse scale\n",
    "    prediction = model.predict(prediction_input)[0][0]\n",
    "    dummy_output = np.array([[0, 0, 0, prediction]])\n",
    "    return scaler.inverse_transform(dummy_output)[0][3]"
   ]
  },
  {
   "cell_type": "code",
   "execution_count": 24,
   "id": "1848a154",
   "metadata": {
    "execution": {
     "iopub.execute_input": "2025-04-14T16:05:05.899263Z",
     "iopub.status.busy": "2025-04-14T16:05:05.899048Z",
     "iopub.status.idle": "2025-04-14T16:05:05.902843Z",
     "shell.execute_reply": "2025-04-14T16:05:05.902270Z"
    },
    "papermill": {
     "duration": 0.042365,
     "end_time": "2025-04-14T16:05:05.903834",
     "exception": false,
     "start_time": "2025-04-14T16:05:05.861469",
     "status": "completed"
    },
    "tags": []
   },
   "outputs": [
    {
     "name": "stdout",
     "output_type": "stream",
     "text": [
      "Final Metrics - MAE: 0.1017, RMSE: 0.1312\n"
     ]
    }
   ],
   "source": [
    "print(f\"Final Metrics - MAE: {mae:.4f}, RMSE: {rmse:.4f}\")"
   ]
  }
 ],
 "metadata": {
  "kaggle": {
   "accelerator": "nvidiaTeslaT4",
   "dataSources": [
    {
     "databundleVersionId": 11826128,
     "datasetId": 7129447,
     "sourceId": 11392395,
     "sourceType": "datasetVersion"
    }
   ],
   "dockerImageVersionId": 31011,
   "isGpuEnabled": true,
   "isInternetEnabled": true,
   "language": "python",
   "sourceType": "notebook"
  },
  "kernelspec": {
   "display_name": "Python 3",
   "language": "python",
   "name": "python3"
  },
  "language_info": {
   "codemirror_mode": {
    "name": "ipython",
    "version": 3
   },
   "file_extension": ".py",
   "mimetype": "text/x-python",
   "name": "python",
   "nbconvert_exporter": "python",
   "pygments_lexer": "ipython3",
   "version": "3.11.11"
  },
  "papermill": {
   "default_parameters": {},
   "duration": 81.362867,
   "end_time": "2025-04-14T16:05:09.292047",
   "environment_variables": {},
   "exception": null,
   "input_path": "__notebook__.ipynb",
   "output_path": "__notebook__.ipynb",
   "parameters": {},
   "start_time": "2025-04-14T16:03:47.929180",
   "version": "2.6.0"
  }
 },
 "nbformat": 4,
 "nbformat_minor": 5
}
